{
 "cells": [
  {
   "cell_type": "code",
   "execution_count": 1,
   "metadata": {},
   "outputs": [],
   "source": [
    "import pandas as pd\n",
    "import numpy as np"
   ]
  },
  {
   "cell_type": "code",
   "execution_count": 2,
   "metadata": {},
   "outputs": [],
   "source": [
    "IncludeMilitary = True\n",
    "FloatRound = 2"
   ]
  },
  {
   "cell_type": "code",
   "execution_count": 3,
   "metadata": {},
   "outputs": [],
   "source": [
    "Domains = [\"Agriculture\",\"Human Survival\",\"Natural Disaster\",\"Geography\"]\n",
    "if IncludeMilitary:\n",
    "    Domains.append(\"Military\")"
   ]
  },
  {
   "cell_type": "code",
   "execution_count": 4,
   "metadata": {},
   "outputs": [],
   "source": [
    "def tokenizer(sent):\n",
    "    return sent.split()"
   ]
  },
  {
   "cell_type": "code",
   "execution_count": 5,
   "metadata": {},
   "outputs": [],
   "source": [
    "from spacy.lang.en import English\n",
    "nlp = English()\n",
    "nlp.Defaults.stop_words |= {\"want\",\"wish\",\"know\",\"learn\"}\n",
    "\n",
    "def dropStopWords(text):\n",
    "    my_doc = nlp(text)\n",
    "    return [word for token in my_doc if not (nlp.vocab[(word:=token.text)].is_stop or token.is_punct)]"
   ]
  },
  {
   "cell_type": "code",
   "execution_count": 6,
   "metadata": {},
   "outputs": [],
   "source": [
    "df_qa = pd.read_csv(\"../organize_stage2_annotation/merged_annotation.csv\")\n",
    "if not IncludeMilitary:\n",
    "    df_qa = df_qa[df_qa[\"domain\"] != \"Military\"]"
   ]
  },
  {
   "cell_type": "markdown",
   "metadata": {},
   "source": [
    "## video & question count"
   ]
  },
  {
   "cell_type": "code",
   "execution_count": 7,
   "metadata": {},
   "outputs": [],
   "source": [
    "def count_v_q(df,domain):\n",
    "    df = df[df[\"domain\"]==domain]\n",
    "    return len(set(df['video_link'])),len(df)"
   ]
  },
  {
   "cell_type": "code",
   "execution_count": 8,
   "metadata": {},
   "outputs": [
    {
     "name": "stdout",
     "output_type": "stream",
     "text": [
      "Agriculture :  (85, 110)\n",
      "Human Survival :  (95, 315)\n",
      "Natural Disaster :  (70, 192)\n",
      "Geography :  (50, 119)\n",
      "Military :  (85, 229)\n",
      "Total: 385 965\n"
     ]
    }
   ],
   "source": [
    "for d in Domains:\n",
    "    print(d,\": \",count_v_q(df_qa,d))\n",
    "print(\"Total:\",len(set(df_qa['video_link'])),len(df_qa))"
   ]
  },
  {
   "cell_type": "markdown",
   "metadata": {},
   "source": [
    "## Table info"
   ]
  },
  {
   "cell_type": "code",
   "execution_count": 9,
   "metadata": {},
   "outputs": [],
   "source": [
    "def mstd(arr):\n",
    "    # compute the Mean & the Standard Deviation\n",
    "    return np.round(np.mean(arr),FloatRound),np.round(np.std(arr),FloatRound)"
   ]
  },
  {
   "cell_type": "markdown",
   "metadata": {},
   "source": [
    "### Phase 1"
   ]
  },
  {
   "cell_type": "code",
   "execution_count": 10,
   "metadata": {},
   "outputs": [
    {
     "name": "stdout",
     "output_type": "stream",
     "text": [
      "77.05\n"
     ]
    }
   ],
   "source": [
    "# annotation time spend\n",
    "import os\n",
    "import json\n",
    "\n",
    "csv_files = []\n",
    "for fn in [raw_file for raw_file in os.listdir(\"../organize_stage1_annotation/raw_batches/\") if raw_file.endswith(\".csv\")]:\n",
    "    if not IncludeMilitary and fn.startswith(\"mil\"): # don't show military information\n",
    "        continue\n",
    "    csv_files.append(\n",
    "        pd.read_csv(f\"../organize_stage1_annotation/raw_batches/{fn}\",converters={\"Answer.taskAnswers\": json.loads}))\n",
    "\n",
    "if len(csv_files) > 0:\n",
    "    phase1_anno_result = pd.concat(csv_files,join=\"inner\")\n",
    "    print(round(sum(phase1_anno_result['WorkTimeInSeconds'])/3600,2))"
   ]
  },
  {
   "cell_type": "code",
   "execution_count": 11,
   "metadata": {},
   "outputs": [
    {
     "data": {
      "text/plain": [
       "(70.91, 26.24)"
      ]
     },
     "execution_count": 11,
     "metadata": {},
     "output_type": "execute_result"
    }
   ],
   "source": [
    "# video length\n",
    "mstd(df_qa[\"duration\"])"
   ]
  },
  {
   "cell_type": "code",
   "execution_count": 12,
   "metadata": {},
   "outputs": [
    {
     "data": {
      "text/plain": [
       "(2.51, 1.42)"
      ]
     },
     "execution_count": 12,
     "metadata": {},
     "output_type": "execute_result"
    }
   ],
   "source": [
    "# questions per video\n",
    "mstd(list(pd.value_counts(df_qa[\"video_link\"])))"
   ]
  },
  {
   "cell_type": "code",
   "execution_count": 13,
   "metadata": {},
   "outputs": [
    {
     "data": {
      "text/plain": [
       "(7.17, 2.72)"
      ]
     },
     "execution_count": 13,
     "metadata": {},
     "output_type": "execute_result"
    }
   ],
   "source": [
    "# question length\n",
    "mstd(df_qa[\"modified_question\"].apply(lambda x:len(tokenizer(x))))"
   ]
  },
  {
   "cell_type": "code",
   "execution_count": 14,
   "metadata": {},
   "outputs": [
    {
     "data": {
      "text/plain": [
       "(8.96, 9.27)"
      ]
     },
     "execution_count": 14,
     "metadata": {},
     "output_type": "execute_result"
    }
   ],
   "source": [
    "# answer length\n",
    "mstd(df_qa[\"modified_answer\"].apply(lambda x:len(tokenizer(x))))"
   ]
  },
  {
   "cell_type": "code",
   "execution_count": 15,
   "metadata": {},
   "outputs": [
    {
     "data": {
      "text/plain": [
       "(1.53, 0.75)"
      ]
     },
     "execution_count": 15,
     "metadata": {},
     "output_type": "execute_result"
    }
   ],
   "source": [
    "# evidences per answer\n",
    "mstd(df_qa[\"evidences\"].apply(eval).apply(len))"
   ]
  },
  {
   "cell_type": "code",
   "execution_count": 16,
   "metadata": {},
   "outputs": [
    {
     "data": {
      "text/plain": [
       "(9.44, 13.68)"
      ]
     },
     "execution_count": 16,
     "metadata": {},
     "output_type": "execute_result"
    }
   ],
   "source": [
    "# evidence length\n",
    "mstd([b for a in list(df_qa[\"evidences\"].apply(eval).\\\n",
    "    apply(lambda x: [list(i.values())[0] for i in x]).\\\n",
    "    apply(lambda x: [i[1]-i[0] for i in x]))\n",
    "    for b in a])"
   ]
  },
  {
   "cell_type": "markdown",
   "metadata": {},
   "source": [
    "### Phase 2"
   ]
  },
  {
   "cell_type": "code",
   "execution_count": 17,
   "metadata": {},
   "outputs": [
    {
     "name": "stdout",
     "output_type": "stream",
     "text": [
      "crowd: 842\n",
      "expert: 70\n",
      "total: 842\n"
     ]
    }
   ],
   "source": [
    "# annotated questions\n",
    "print(\"crowd:\",sum(df_qa[\"crowd_workerids\"] != \"[]\"))\n",
    "print(\"expert:\",sum(df_qa[\"expert_workerids\"] != \"[]\"))\n",
    "print(\"total:\",sum((df_qa[\"expert_workerids\"] != \"[]\") | (df_qa[\"crowd_workerids\"] != \"[]\")))"
   ]
  },
  {
   "cell_type": "code",
   "execution_count": 18,
   "metadata": {},
   "outputs": [
    {
     "name": "stdout",
     "output_type": "stream",
     "text": [
      "crowd: 856\n",
      "expert: 119\n",
      "total: 975\n"
     ]
    }
   ],
   "source": [
    "# annotated answers\n",
    "print(\"crowd:\",\n",
    "      cas:=len([a for w in df_qa[df_qa[\"crowd_answers\"] != \"[]\"]\n",
    "           [\"crowd_answers\"] for ans in eval(w) for a in ans]))\n",
    "\n",
    "print(\"expert:\",\n",
    "      eas:=len([a for w in df_qa[df_qa[\"expert_answers\"] != \"[]\"]\n",
    "           [\"expert_answers\"] for ans in eval(w) for a in ans]))\n",
    "print(\"total:\",cas+eas)"
   ]
  },
  {
   "cell_type": "code",
   "execution_count": 19,
   "metadata": {},
   "outputs": [
    {
     "data": {
      "text/plain": [
       "(1.01, 0.65)"
      ]
     },
     "execution_count": 19,
     "metadata": {},
     "output_type": "execute_result"
    }
   ],
   "source": [
    "# answer per question\n",
    "mstd(df_qa.apply(\n",
    "    lambda x: len([b for a in eval(x['crowd_answers']) for b in a])+\\\n",
    "    len([b for a in eval(x['expert_answers']) for b in a]),axis=1))"
   ]
  },
  {
   "cell_type": "code",
   "execution_count": 20,
   "metadata": {},
   "outputs": [
    {
     "data": {
      "text/plain": [
       "(9.03, 6.72)"
      ]
     },
     "execution_count": 20,
     "metadata": {},
     "output_type": "execute_result"
    }
   ],
   "source": [
    "# answer length\n",
    "mstd([j for i in df_qa.apply(\n",
    "    lambda x: [len(tokenizer(b)) for a in eval(x['crowd_answers']) for b in a]+\\\n",
    "    [len(tokenizer(b)) for a in eval(x['expert_answers']) for b in a],axis=1) for j in i])"
   ]
  },
  {
   "cell_type": "code",
   "execution_count": 21,
   "metadata": {},
   "outputs": [
    {
     "data": {
      "text/plain": [
       "(0.87, 0.68)"
      ]
     },
     "execution_count": 21,
     "metadata": {},
     "output_type": "execute_result"
    }
   ],
   "source": [
    "# Evidence per answer\n",
    "mstd([b for a in df_qa[\"crowd_evidences\"].apply(lambda x: [len(ans) for worker in eval(x) for ans in worker])\n",
    " for b in a] +\\\n",
    "[b for a in df_qa[\"expert_evidences\"].apply(lambda x: [len(ans) for worker in eval(x) for ans in worker])\n",
    " for b in a])"
   ]
  },
  {
   "cell_type": "code",
   "execution_count": 22,
   "metadata": {},
   "outputs": [
    {
     "data": {
      "text/plain": [
       "(10.51, 5.48)"
      ]
     },
     "execution_count": 22,
     "metadata": {},
     "output_type": "execute_result"
    }
   ],
   "source": [
    "# Evidence length\n",
    "mstd([evd[1]-evd[0] for evds in df_qa[\"crowd_evidences\"] \n",
    " for worker in eval(evds) for ans in worker for evd in ans] +\\\n",
    "[evd[1]-evd[0] for evds in df_qa[\"expert_evidences\"] \n",
    " for worker in eval(evds) for ans in worker for evd in ans])"
   ]
  },
  {
   "cell_type": "code",
   "execution_count": 23,
   "metadata": {},
   "outputs": [
    {
     "data": {
      "text/plain": [
       "479.76"
      ]
     },
     "execution_count": 23,
     "metadata": {},
     "output_type": "execute_result"
    }
   ],
   "source": [
    "# annotation time\n",
    "file_path = \"../organize_stage2_annotation/\"\n",
    "\n",
    "total_time = 0\n",
    "\n",
    "for annotator in [\"expert\",\"crowd\"]:\n",
    "    raw_files = os.listdir(f\"{file_path}/{annotator}_raw_batches\")\n",
    "    csv_files = []\n",
    "    for fn in [raw_file for raw_file in raw_files if raw_file.endswith(\".csv\")]:\n",
    "        if not IncludeMilitary and fn.startswith(\"mil\"): # don't show military information\n",
    "            continue\n",
    "        new_df = pd.read_csv(f\"{file_path}/{annotator}_raw_batches/{fn}\",converters={\"Answer.taskAnswers\": json.loads})\n",
    "        # fix some early annotation stage issue\n",
    "        if \"Input.StdAnswer1\" in new_df.columns:\n",
    "            new_df.rename({f\"Input.StdAnswer{i}\":f\"Input.stdAnswer{i}\" for i in range(1,6)},\n",
    "                          inplace=True,axis=1)\n",
    "        if \"Input.StdEviden1\" in new_df.columns:\n",
    "            new_df.rename({f\"Input.StdEviden{i}\":f\"Input.stdEvidences{i}\" for i in range(1,6)},\n",
    "                          inplace=True,axis=1)\n",
    "        for kk in range(1,6):\n",
    "            new_df[f\"Input.file{kk}\"] = fn\n",
    "        csv_files.append(new_df)\n",
    "    if len(csv_files) == 0:\n",
    "        continue\n",
    "    anno_result = pd.concat(csv_files,join=\"inner\")\n",
    "    total_time += sum(anno_result['WorkTimeInSeconds'])\n",
    "round(total_time/3600,2)"
   ]
  },
  {
   "cell_type": "markdown",
   "metadata": {},
   "source": [
    "### combine phase"
   ]
  },
  {
   "cell_type": "code",
   "execution_count": 24,
   "metadata": {},
   "outputs": [
    {
     "data": {
      "text/plain": [
       "(9.0, 8.09)"
      ]
     },
     "execution_count": 24,
     "metadata": {},
     "output_type": "execute_result"
    }
   ],
   "source": [
    "# answer length\n",
    "\n",
    "mstd(list(df_qa[\"modified_answer\"].apply(lambda x:len(tokenizer(x))))+\\\n",
    "[j for i in df_qa.apply(\n",
    "    lambda x: [len(tokenizer(b)) for a in eval(x['crowd_answers']) for b in a]+\\\n",
    "    [len(tokenizer(b)) for a in eval(x['expert_answers']) for b in a],axis=1) for j in i])"
   ]
  },
  {
   "cell_type": "code",
   "execution_count": 25,
   "metadata": {},
   "outputs": [
    {
     "data": {
      "text/plain": [
       "(1.2, 0.79)"
      ]
     },
     "execution_count": 25,
     "metadata": {},
     "output_type": "execute_result"
    }
   ],
   "source": [
    "# evidence per answer\n",
    "mstd(list(df_qa[\"evidences\"].apply(eval).apply(len))+\\\n",
    "[b for a in df_qa[\"crowd_evidences\"].apply(lambda x: [len(ans) for worker in eval(x) for ans in worker])\n",
    " for b in a] +\\\n",
    "[b for a in df_qa[\"expert_evidences\"].apply(lambda x: [len(ans) for worker in eval(x) for ans in worker])\n",
    " for b in a])"
   ]
  },
  {
   "cell_type": "code",
   "execution_count": 26,
   "metadata": {},
   "outputs": [
    {
     "data": {
      "text/plain": [
       "(9.83, 11.4)"
      ]
     },
     "execution_count": 26,
     "metadata": {},
     "output_type": "execute_result"
    }
   ],
   "source": [
    "# evidence length\n",
    "mstd([b for a in list(df_qa[\"evidences\"].apply(eval).\\\n",
    "apply(lambda x: [list(i.values())[0] for i in x]).\\\n",
    "apply(lambda x: [i[1]-i[0] for i in x]))\n",
    "for b in a]+\\\n",
    "[evd[1]-evd[0] for evds in df_qa[\"crowd_evidences\"] \n",
    " for worker in eval(evds) for ans in worker for evd in ans] +\\\n",
    "[evd[1]-evd[0] for evds in df_qa[\"expert_evidences\"] \n",
    " for worker in eval(evds) for ans in worker for evd in ans])"
   ]
  },
  {
   "cell_type": "markdown",
   "metadata": {},
   "source": [
    "## Objective analysis"
   ]
  },
  {
   "cell_type": "code",
   "execution_count": 27,
   "metadata": {},
   "outputs": [
    {
     "data": {
      "text/plain": [
       "{'Agriculture': {'farm': 15, 'Maintaining': 7, 'agricultural': 7},\n",
       " 'Human Survival': {'man': 112, 'Determine': 90, 'human': 66},\n",
       " 'Natural Disaster': {'Weather': 64, 'People': 35, 'Flooding': 14},\n",
       " 'Geography': {'People': 32, 'Topography': 20, 'Water': 15},\n",
       " 'Military': {'military': 26, 'aircraft': 24, 'Determine': 17}}"
      ]
     },
     "execution_count": 27,
     "metadata": {},
     "output_type": "execute_result"
    }
   ],
   "source": [
    "# most common objective tokens\n",
    "domain_most_obj_words = {}\n",
    "for d in Domains:\n",
    "    words_count = pd.value_counts(\n",
    "        [b for a in df_qa[df_qa[\"domain\"]==d][\"objective\"].apply(dropStopWords) for b in a])\n",
    "    words_count.sort_values(ascending=False)\n",
    "    domain_most_obj_words[d]={k:v for (k,v) in zip(words_count[:3].index,words_count[:3])}\n",
    "domain_most_obj_words"
   ]
  },
  {
   "cell_type": "code",
   "execution_count": 28,
   "metadata": {},
   "outputs": [
    {
     "name": "stdout",
     "output_type": "stream",
     "text": [
      "Agriculture 0.0166\n",
      "Human Survival 0.199\n",
      "Natural Disaster 0.1171\n",
      "Geography 0.0653\n",
      "Military 0.0528\n"
     ]
    }
   ],
   "source": [
    "# most common objective tokens used times\n",
    "for d in Domains:\n",
    "    scount = 0\n",
    "    for s in df_qa[df_qa[\"domain\"]==d][\"objective\"]:\n",
    "        for t in tokenizer(s):\n",
    "            if t in domain_most_obj_words[d]:\n",
    "                scount += 1\n",
    "                break\n",
    "    print(d,round(scount/len(df_qa),4))\n",
    "del domain_most_obj_words, scount"
   ]
  },
  {
   "cell_type": "markdown",
   "metadata": {},
   "source": [
    "## Question Analysis"
   ]
  },
  {
   "cell_type": "code",
   "execution_count": 29,
   "metadata": {},
   "outputs": [
    {
     "data": {
      "text/plain": [
       "['scene']             0.805181\n",
       "['audio', 'scene']    0.120207\n",
       "['audio']             0.074611\n",
       "Name: question_base, dtype: float64"
      ]
     },
     "execution_count": 29,
     "metadata": {},
     "output_type": "execute_result"
    }
   ],
   "source": [
    "# questions based on for each domain\n",
    "pd.value_counts(df_qa[\"question_base\"])/len(df_qa)"
   ]
  },
  {
   "cell_type": "code",
   "execution_count": 30,
   "metadata": {},
   "outputs": [
    {
     "name": "stdout",
     "output_type": "stream",
     "text": [
      "Agriculture \n",
      " ['audio']             0.381818\n",
      "['audio', 'scene']    0.318182\n",
      "['scene']             0.300000\n",
      "Name: question_base, dtype: float64 \n",
      "\n",
      "Human Survival \n",
      " ['scene']             0.869841\n",
      "['audio', 'scene']    0.098413\n",
      "['audio']             0.031746\n",
      "Name: question_base, dtype: float64 \n",
      "\n",
      "Natural Disaster \n",
      " ['scene']             0.96875\n",
      "['audio', 'scene']    0.03125\n",
      "Name: question_base, dtype: float64 \n",
      "\n",
      "Geography \n",
      " ['scene']             0.932773\n",
      "['audio', 'scene']    0.067227\n",
      "Name: question_base, dtype: float64 \n",
      "\n",
      "Military \n",
      " ['scene']             0.755459\n",
      "['audio', 'scene']    0.157205\n",
      "['audio']             0.087336\n",
      "Name: question_base, dtype: float64 \n",
      "\n"
     ]
    }
   ],
   "source": [
    "# questions based on for each domain\n",
    "for d in Domains:\n",
    "    print(d,\"\\n\",pd.value_counts(\n",
    "        df_qa[df_qa[\"domain\"]==d][\"question_base\"])/len(df_qa[df_qa[\"domain\"]==d]),\"\\n\")"
   ]
  },
  {
   "cell_type": "markdown",
   "metadata": {},
   "source": [
    "### question type"
   ]
  },
  {
   "cell_type": "code",
   "execution_count": 31,
   "metadata": {},
   "outputs": [],
   "source": [
    "question_type = round(pd.value_counts([b for a in df_qa[\"question_type\"] for b in eval(a)]) / len(df_qa)*100,2)"
   ]
  },
  {
   "cell_type": "code",
   "execution_count": 32,
   "metadata": {},
   "outputs": [],
   "source": [
    "question_type.index=['Existence', 'Motion', 'Reasoning', 'Location', 'Entity',\n",
    "       'Spatial\\nrelationship', 'Number', 'Temporal\\nrelationship', 'Time',\n",
    "       'Other']"
   ]
  },
  {
   "cell_type": "code",
   "execution_count": 33,
   "metadata": {},
   "outputs": [
    {
     "data": {
      "text/plain": [
       "[Text(0, 0, '44.35'),\n",
       " Text(0, 0, '27.67'),\n",
       " Text(0, 0, '26.32'),\n",
       " Text(0, 0, '14.09'),\n",
       " Text(0, 0, '10.05'),\n",
       " Text(0, 0, '8.7'),\n",
       " Text(0, 0, '4.35'),\n",
       " Text(0, 0, '2.9'),\n",
       " Text(0, 0, '1.35'),\n",
       " Text(0, 0, '1.35')]"
      ]
     },
     "execution_count": 33,
     "metadata": {},
     "output_type": "execute_result"
    },
    {
     "data": {
      "image/png": "[encoded data removed]",
      "text/plain": [
       "<Figure size 432x288 with 1 Axes>"
      ]
     },
     "metadata": {
      "needs_background": "light"
     },
     "output_type": "display_data"
    }
   ],
   "source": [
    "import seaborn as sns\n",
    "from matplotlib import pyplot as plt\n",
    "# sns.set(style=\"whitegrid\")\n",
    "ax = sns.barplot(x=question_type.index,y=question_type)\n",
    "plt.xticks(rotation=65)\n",
    "plt.ylim(0,50)\n",
    "ax.bar_label(ax.containers[0])\n",
    "# plt.savefig(\"question-type.pdf\")"
   ]
  },
  {
   "cell_type": "markdown",
   "metadata": {},
   "source": [
    "#### prepare for sunflower plot"
   ]
  },
  {
   "cell_type": "code",
   "execution_count": 34,
   "metadata": {},
   "outputs": [],
   "source": [
    "# with open(\"sunburst_plot/all_questions.txt\",\"w\") as f:\n",
    "#     f.write(\"\\n\".join(df_qa[\"modified_question\"])+\"\\n\")\n",
    "        \n",
    "# for d in Domains:\n",
    "#     with open(f\"sunburst_plot/{d}_questions.txt\",\"w\") as f:\n",
    "#         f.write(\"\\n\".join(df_qa[df_qa[\"domain\"]==d][\"modified_question\"])+\"\\n\")"
   ]
  },
  {
   "cell_type": "code",
   "execution_count": 35,
   "metadata": {},
   "outputs": [
    {
     "name": "stdout",
     "output_type": "stream",
     "text": [
      "is/are:23.32; where:7.15; how many:4.35\n"
     ]
    }
   ],
   "source": [
    "# “is(are)”/”how many”/”where”/”how many”\n",
    "# “Existence”/”Location”/”Number”\n",
    "\n",
    "# check questions distribution in line with self-reported\n",
    "qcount = [0,0,0]\n",
    "for q in df_qa[\"modified_question\"]:\n",
    "    q = tokenizer(q)\n",
    "    if q[0].lower() in {\"is\",\"are\"}:\n",
    "        qcount[0] += 1\n",
    "    elif q[0].lower() == \"where\":\n",
    "        qcount[1] += 1\n",
    "    elif \" \".join(q[:2]).lower() == \"how many\":\n",
    "        qcount[2] += 1\n",
    "        \n",
    "print(\"is/are:{}; where:{}; how many:{}\".\\\n",
    "      format(*list(np.round(np.array(qcount)*100/len(df_qa),FloatRound))))"
   ]
  },
  {
   "cell_type": "markdown",
   "metadata": {},
   "source": [
    "## Second phase"
   ]
  },
  {
   "cell_type": "markdown",
   "metadata": {},
   "source": [
    "### Answer"
   ]
  },
  {
   "cell_type": "code",
   "execution_count": 36,
   "metadata": {},
   "outputs": [
    {
     "name": "stderr",
     "output_type": "stream",
     "text": [
      "/home/frank/anaconda3/lib/python3.8/site-packages/seaborn/_decorators.py:36: FutureWarning: Pass the following variable as a keyword arg: x. From version 0.12, the only valid positional argument will be `data`, and passing other arguments without an explicit keyword will result in an error or misinterpretation.\n",
      "  warnings.warn(\n"
     ]
    },
    {
     "data": {
      "text/plain": [
       "Text(0.5, 1.0, 'answer count for each question')"
      ]
     },
     "execution_count": 36,
     "metadata": {},
     "output_type": "execute_result"
    },
    {
     "data": {
      "image/png": "[encoded data removed]",
      "text/plain": [
       "<Figure size 432x288 with 1 Axes>"
      ]
     },
     "metadata": {
      "needs_background": "light"
     },
     "output_type": "display_data"
    }
   ],
   "source": [
    "# answers per question\n",
    "ax = sns.countplot(df_qa.apply(\n",
    "    lambda x: len([b for a in eval(x['crowd_answers']) for b in a])+\\\n",
    "    len([b for a in eval(x['expert_answers']) for b in a]),axis=1)+1)\n",
    "ax.bar_label(ax.containers[0])\n",
    "plt.title(\"answer count for each question\")"
   ]
  },
  {
   "cell_type": "markdown",
   "metadata": {},
   "source": [
    "### answer based on"
   ]
  },
  {
   "cell_type": "code",
   "execution_count": 37,
   "metadata": {},
   "outputs": [
    {
     "data": {
      "text/plain": [
       "[scene]           0.897436\n",
       "[audio, scene]    0.053333\n",
       "[audio]           0.049231\n",
       "dtype: float64"
      ]
     },
     "execution_count": 37,
     "metadata": {},
     "output_type": "execute_result"
    }
   ],
   "source": [
    "bases = [ans for que in df_qa[\"crowd_answer_based_on\"] for worker in eval(que) for ans in worker] +\\\n",
    "[ans for que in df_qa[\"expert_answer_based_on\"] for worker in eval(que) for ans in worker]\n",
    "pd.value_counts(bases)/len(bases)"
   ]
  },
  {
   "cell_type": "code",
   "execution_count": 38,
   "metadata": {
    "scrolled": true
   },
   "outputs": [
    {
     "name": "stdout",
     "output_type": "stream",
     "text": [
      "Agriculture \n",
      " [scene]           0.534653\n",
      "[audio]           0.257426\n",
      "[audio, scene]    0.207921\n",
      "dtype: float64 \n",
      "\n",
      "Human Survival \n",
      " [scene]           0.960000\n",
      "[audio, scene]    0.033333\n",
      "[audio]           0.006667\n",
      "dtype: float64 \n",
      "\n",
      "Natural Disaster \n",
      " [scene]           0.978142\n",
      "[audio, scene]    0.021858\n",
      "dtype: float64 \n",
      "\n",
      "Geography \n",
      " [scene]           0.960784\n",
      "[audio, scene]    0.024510\n",
      "[audio]           0.014706\n",
      "dtype: float64 \n",
      "\n",
      "Military \n",
      " [scene]           0.844920\n",
      "[audio]           0.090909\n",
      "[audio, scene]    0.064171\n",
      "dtype: float64 \n",
      "\n"
     ]
    }
   ],
   "source": [
    "# for each domain answer based on\n",
    "for d in Domains:\n",
    "    dt = df_qa[df_qa[\"domain\"]==d]\n",
    "    bases = [ans for que in dt[\"crowd_answer_based_on\"] for worker in eval(que) for ans in worker] +\\\n",
    "    [ans for que in dt[\"expert_answer_based_on\"] for worker in eval(que) for ans in worker]\n",
    "    print(d,\"\\n\",pd.value_counts(bases)/len(bases),\"\\n\")\n",
    "del dt"
   ]
  }
 ],
 "metadata": {
  "kernelspec": {
   "display_name": "Python 3",
   "language": "python",
   "name": "python3"
  },
  "language_info": {
   "codemirror_mode": {
    "name": "ipython",
    "version": 3
   },
   "file_extension": ".py",
   "mimetype": "text/x-python",
   "name": "python",
   "nbconvert_exporter": "python",
   "pygments_lexer": "ipython3",
   "version": "3.8.3"
  }
 },
 "nbformat": 4,
 "nbformat_minor": 4
}
