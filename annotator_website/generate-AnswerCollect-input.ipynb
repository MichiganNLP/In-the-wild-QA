{
 "cells": [
  {
   "cell_type": "code",
   "execution_count": 1,
   "metadata": {},
   "outputs": [],
   "source": [
    "import pandas as pd\n",
    "import numpy as np\n",
    "\n",
    "np.random.seed(1)\n",
    "# assignment_id\n",
    "# video_link\n",
    "# modified_question"
   ]
  },
  {
   "cell_type": "code",
   "execution_count": 3,
   "metadata": {},
   "outputs": [],
   "source": [
    "# TODO: make sure videos in a page are distinctive\n",
    "\n",
    "# video_indexs = df.groupby(\"video_link\").apply(lambda x: list(x.index))\n",
    "# video_indexs = video_indexs.to_frame().rename(columns={0:\"indexs\"})"
   ]
  },
  {
   "cell_type": "code",
   "execution_count": 2,
   "metadata": {},
   "outputs": [],
   "source": [
    "modified_vqs = pd.read_csv(\"../01-25-22.csv\")"
   ]
  },
  {
   "cell_type": "code",
   "execution_count": 3,
   "metadata": {},
   "outputs": [
    {
     "name": "stdout",
     "output_type": "stream",
     "text": [
      "there are 483 modified questions, resempled 2 questions\n"
     ]
    }
   ],
   "source": [
    "# extend questions count to 5\n",
    "all_indexs = list(range(len(modified_vqs))) + \\\n",
    "    list(np.random.choice(len(modified_vqs),(5-len(modified_vqs)%5)%5,replace=False))\n",
    "\n",
    "print(f\"there are {len(modified_vqs)} modified questions, \\\n",
    "resempled {len(all_indexs)-len(modified_vqs)} questions\")"
   ]
  },
  {
   "cell_type": "code",
   "execution_count": 4,
   "metadata": {},
   "outputs": [],
   "source": [
    "np.random.shuffle(all_indexs)\n",
    "select_indexs = np.array(all_indexs).reshape((-1,5)).tolist()"
   ]
  },
  {
   "cell_type": "code",
   "execution_count": 5,
   "metadata": {},
   "outputs": [],
   "source": [
    "AnswerCollectInput = pd.DataFrame(np.array(modified_vqs[\"assignment_id\"][all_indexs]).reshape((-1,5)),\n",
    "                     columns=[f'assignment_id{i}' for i in range(1,6)]).join(\n",
    "    pd.DataFrame(np.array(modified_vqs[\"video_link\"][all_indexs]).reshape((-1,5)),\n",
    "                 columns=[f'video{i}' for i in range(1,6)])).join(\n",
    "    pd.DataFrame(np.array(modified_vqs[\"modified_question\"][all_indexs]).reshape((-1,5)),\n",
    "                 columns=[f'question{i}' for i in range(1,6)]))"
   ]
  },
  {
   "cell_type": "code",
   "execution_count": 8,
   "metadata": {},
   "outputs": [],
   "source": [
    "AnswerCollectInput.to_csv(\"../answer_input.csv\",index=False)"
   ]
  }
 ],
 "metadata": {
  "kernelspec": {
   "display_name": "Python 3",
   "language": "python",
   "name": "python3"
  },
  "language_info": {
   "codemirror_mode": {
    "name": "ipython",
    "version": 3
   },
   "file_extension": ".py",
   "mimetype": "text/x-python",
   "name": "python",
   "nbconvert_exporter": "python",
   "pygments_lexer": "ipython3",
   "version": "3.8.3"
  }
 },
 "nbformat": 4,
 "nbformat_minor": 2
}
