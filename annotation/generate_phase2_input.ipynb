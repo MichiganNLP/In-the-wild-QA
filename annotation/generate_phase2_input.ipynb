{
 "cells": [
  {
   "cell_type": "code",
   "execution_count": 1,
   "metadata": {},
   "outputs": [],
   "source": [
    "import pandas as pd\n",
    "import random\n",
    "import numpy as np\n",
    "import os"
   ]
  },
  {
   "cell_type": "code",
   "execution_count": 2,
   "metadata": {},
   "outputs": [],
   "source": [
    "def select_answer_inputs(df,HitNeeded,AvoidDup = True):\n",
    "    ## Select Questions\n",
    "    random.seed(0)\n",
    "    Keys = df.columns\n",
    "    OutDic = {k+f\"{i}\":[] for k in Keys for i in range(1,6)}\n",
    "    ridxs=np.arange(len(df))\n",
    "    \n",
    "    for i in range(HitNeeded):\n",
    "        selected_ids = random.sample(range(len(ridxs)),5)\n",
    "        selected_rows = ridxs[selected_ids]\n",
    "        if AvoidDup: # avoid duplicated videos in same HIT\n",
    "            trytime = 0\n",
    "            while len(set(df[\"video\"][selected_rows])) < 5:\n",
    "                if trytime > 10:\n",
    "                    raise RuntimeError(\"Hard to find unduplicated videos\")\n",
    "                selected_ids = random.sample(range(len(ridxs)),5)\n",
    "                selected_rows = ridxs[selected_ids]\n",
    "                trytime += 1\n",
    "        for rid in range(5):\n",
    "            crow = df.iloc[selected_rows[rid]]\n",
    "            for k in Keys:\n",
    "                OutDic[k+f\"{rid+1}\"].append(crow[k])\n",
    "        ridxs = np.delete(ridxs,selected_ids)\n",
    "    return OutDic\n",
    "\n",
    "\n",
    "def escapeHtml(unsafe):\n",
    "    return unsafe.replace(\"&\",\"&amp;\").replace(\"<\",\"&lt;\")\\\n",
    "    .replace(\">\",\"&gt;\").replace(\"\\\"\",'&quot;').replace(\"'\",\"&#039;\")"
   ]
  },
  {
   "cell_type": "code",
   "execution_count": 3,
   "metadata": {},
   "outputs": [],
   "source": [
    "HitSize = 8\n",
    "df_all_expert_answer_anno = pd.read_csv(\n",
    "    \"organize_stage1_annotaton/processed_reviewed_rm_del.csv\") # all questions from phase 1"
   ]
  },
  {
   "cell_type": "code",
   "execution_count": 4,
   "metadata": {},
   "outputs": [],
   "source": [
    "# use if there are previous phase2 annotation input\n",
    "df_pre_concat = []\n",
    "for pre_name in os.listdir(\"previous_phase2_inputs\"):\n",
    "    df_pre_concat.append(pd.read_csv(\"previous_phase2_inputs/\"+pre_name))\n",
    "    \n",
    "df_pre_concat = pd.concat(df_pre_concat)\n",
    "used_anno = {tuple(ite) for i in range(1,6) for ite in \n",
    " df_pre_concat[[f\"video{i}\",f\"question{i}\",f\"stdAnswer{i}\"]].to_dict(\"split\")[\"data\"]}"
   ]
  },
  {
   "cell_type": "code",
   "execution_count": 5,
   "metadata": {},
   "outputs": [],
   "source": [
    "feasible_anno = df_all_expert_answer_anno[df_all_expert_answer_anno.apply(\n",
    "    lambda x: (x[\"video_link\"],x['modified_question'],x[\"modified_answer\"]) not in used_anno,axis=1)]\n",
    "\n",
    "# the following one line is to fix some early stage annotation issues\n",
    "feasible_anno = feasible_anno[feasible_anno.apply(\n",
    "    lambda x: (x[\"video_link\"],x['modified_question'],x[\"correct_answer\"]) not in used_anno,axis=1)]\n",
    "\n",
    "feasible_anno.reset_index(drop=True, inplace=True)"
   ]
  },
  {
   "cell_type": "code",
   "execution_count": 6,
   "metadata": {},
   "outputs": [],
   "source": [
    "feasible_anno = feasible_anno[['domain','modified_question','video_link','modified_answer','evidences']]\n",
    "feasible_anno = feasible_anno.rename({\"modified_question\":\"question\",\"video_link\":\"video\",\n",
    "                                      \"modified_answer\":\"stdAnswer\",\"evidences\":\"stdEvidences\"}, axis=1)\n",
    "\n",
    "feasible_anno[\"question\"] = feasible_anno[\"question\"].apply(escapeHtml)\n",
    "# feasible_anno[\"stdAnswer\"] = feasible_anno[\"stdAnswer\"].apply(escapeHtml)"
   ]
  },
  {
   "cell_type": "code",
   "execution_count": 7,
   "metadata": {},
   "outputs": [],
   "source": [
    "mil_feasible_anno = feasible_anno[feasible_anno[\"domain\"]==\"Military\"]\n",
    "no_mil_feasible_anno = feasible_anno[feasible_anno[\"domain\"]!=\"Military\"]\n",
    "mil_feasible_anno.reset_index(drop=True, inplace=True)\n",
    "no_mil_feasible_anno.reset_index(drop=True, inplace=True)"
   ]
  },
  {
   "cell_type": "code",
   "execution_count": 8,
   "metadata": {},
   "outputs": [
    {
     "name": "stdout",
     "output_type": "stream",
     "text": [
      "916 questions in total;104 questions used;812 questions left\n",
      "201 Mil questions,611 no-Mil;812 in all\n"
     ]
    }
   ],
   "source": [
    "print(f\"{len(df_all_expert_answer_anno)} questions in total;\\\n",
    "{len(df_all_expert_answer_anno) - len(feasible_anno)} questions used;\\\n",
    "{len(feasible_anno)} questions left\")\n",
    "\n",
    "print(\"{} Mil questions,{} no-Mil;{} in all\".\n",
    "      format(len(mil_feasible_anno),\n",
    "             len(no_mil_feasible_anno),\n",
    "             len(feasible_anno)))"
   ]
  },
  {
   "cell_type": "code",
   "execution_count": 9,
   "metadata": {},
   "outputs": [],
   "source": [
    "mil_hits = pd.DataFrame.from_dict(select_answer_inputs(\n",
    "    mil_feasible_anno,HitNeeded=len(mil_feasible_anno)//5))\n",
    "no_mil_hits = pd.DataFrame.from_dict(select_answer_inputs(\n",
    "    no_mil_feasible_anno,HitNeeded=len(no_mil_feasible_anno)//5))"
   ]
  },
  {
   "cell_type": "code",
   "execution_count": 10,
   "metadata": {},
   "outputs": [],
   "source": [
    "MilHitSize = min(len(mil_hits),HitSize)\n",
    "for i in range((len(mil_hits)+MilHitSize-1)//MilHitSize):\n",
    "    mil_hits.iloc[i*MilHitSize:min((i+1)*MilHitSize,len(mil_hits))]\\\n",
    "        .to_csv(f\"new_mil_answer_input_{i}.csv\",index=False)\n",
    "    \n",
    "NoMilHitSize = min(len(no_mil_hits),HitSize)\n",
    "for i in range((len(no_mil_hits)+NoMilHitSize-1)//NoMilHitSize):\n",
    "    no_mil_hits.iloc[i*NoMilHitSize:min((i+1)*NoMilHitSize,len(no_mil_hits))].\\\n",
    "        to_csv(f\"new_no_mil_answer_input_{i}.csv\",index=False)\n"
   ]
  }
 ],
 "metadata": {
  "kernelspec": {
   "display_name": "Python 3",
   "language": "python",
   "name": "python3"
  },
  "language_info": {
   "codemirror_mode": {
    "name": "ipython",
    "version": 3
   },
   "file_extension": ".py",
   "mimetype": "text/x-python",
   "name": "python",
   "nbconvert_exporter": "python",
   "pygments_lexer": "ipython3",
   "version": "3.8.3"
  }
 },
 "nbformat": 4,
 "nbformat_minor": 4
}
